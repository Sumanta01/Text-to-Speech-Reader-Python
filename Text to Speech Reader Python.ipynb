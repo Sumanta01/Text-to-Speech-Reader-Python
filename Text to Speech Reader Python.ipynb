{
 "cells": [
  {
   "cell_type": "code",
   "execution_count": 4,
   "id": "2345d23d",
   "metadata": {
    "ExecuteTime": {
     "end_time": "2023-08-04T20:47:24.689618Z",
     "start_time": "2023-08-04T20:47:24.676459Z"
    }
   },
   "outputs": [],
   "source": [
    "# load libraries\n",
    "from newspaper import Article\n",
    "import nltk\n",
    "from gtts import gTTS\n",
    "import os"
   ]
  },
  {
   "cell_type": "code",
   "execution_count": 5,
   "id": "6c4d5368",
   "metadata": {
    "ExecuteTime": {
     "end_time": "2023-08-04T20:47:25.961336Z",
     "start_time": "2023-08-04T20:47:25.946331Z"
    }
   },
   "outputs": [],
   "source": [
    "article=Article(\"https://indianexpress.com/todays-paper/\")"
   ]
  },
  {
   "cell_type": "code",
   "execution_count": 6,
   "id": "e8ec5da2",
   "metadata": {
    "ExecuteTime": {
     "end_time": "2023-08-04T20:47:27.442003Z",
     "start_time": "2023-08-04T20:47:26.911814Z"
    }
   },
   "outputs": [],
   "source": [
    "article.download()\n",
    "article.parse()"
   ]
  },
  {
   "cell_type": "code",
   "execution_count": 7,
   "id": "6429966e",
   "metadata": {
    "ExecuteTime": {
     "end_time": "2023-08-04T20:47:32.783846Z",
     "start_time": "2023-08-04T20:47:28.124545Z"
    }
   },
   "outputs": [
    {
     "name": "stderr",
     "output_type": "stream",
     "text": [
      "[nltk_data] Downloading package punkt to\n",
      "[nltk_data]     C:\\Users\\KIIT\\AppData\\Roaming\\nltk_data...\n",
      "[nltk_data]   Unzipping tokenizers\\punkt.zip.\n"
     ]
    }
   ],
   "source": [
    "nltk.download('punkt')\n",
    "article.nlp()"
   ]
  },
  {
   "cell_type": "code",
   "execution_count": 8,
   "id": "c2c2dd15",
   "metadata": {
    "ExecuteTime": {
     "end_time": "2023-08-04T20:47:39.724088Z",
     "start_time": "2023-08-04T20:47:39.717084Z"
    }
   },
   "outputs": [],
   "source": [
    "my_text=article.text\n",
    "\n",
    "language='en' #English"
   ]
  },
  {
   "cell_type": "code",
   "execution_count": 9,
   "id": "f613f088",
   "metadata": {
    "ExecuteTime": {
     "end_time": "2023-08-04T20:47:42.462244Z",
     "start_time": "2023-08-04T20:47:42.458246Z"
    }
   },
   "outputs": [],
   "source": [
    "my_obj=gTTS(text=my_text,lang=language,slow=False)"
   ]
  },
  {
   "cell_type": "code",
   "execution_count": 10,
   "id": "614015b9",
   "metadata": {
    "ExecuteTime": {
     "end_time": "2023-08-04T20:47:46.713073Z",
     "start_time": "2023-08-04T20:47:43.622451Z"
    }
   },
   "outputs": [],
   "source": [
    "my_obj.save(\"my_read_article.mp3\")\n"
   ]
  },
  {
   "cell_type": "code",
   "execution_count": 11,
   "id": "6e574f39",
   "metadata": {
    "ExecuteTime": {
     "end_time": "2023-08-04T20:47:47.886851Z",
     "start_time": "2023-08-04T20:47:46.716099Z"
    }
   },
   "outputs": [
    {
     "data": {
      "text/plain": [
       "0"
      ]
     },
     "execution_count": 11,
     "metadata": {},
     "output_type": "execute_result"
    }
   ],
   "source": [
    "os.system(\"start my_read_article.mp3\")"
   ]
  },
  {
   "cell_type": "code",
   "execution_count": null,
   "id": "d788b76d",
   "metadata": {},
   "outputs": [],
   "source": []
  }
 ],
 "metadata": {
  "kernelspec": {
   "display_name": "Python 3 (ipykernel)",
   "language": "python",
   "name": "python3"
  },
  "language_info": {
   "codemirror_mode": {
    "name": "ipython",
    "version": 3
   },
   "file_extension": ".py",
   "mimetype": "text/x-python",
   "name": "python",
   "nbconvert_exporter": "python",
   "pygments_lexer": "ipython3",
   "version": "3.9.7"
  },
  "toc": {
   "base_numbering": 1,
   "nav_menu": {},
   "number_sections": true,
   "sideBar": true,
   "skip_h1_title": false,
   "title_cell": "Table of Contents",
   "title_sidebar": "Contents",
   "toc_cell": false,
   "toc_position": {},
   "toc_section_display": true,
   "toc_window_display": false
  }
 },
 "nbformat": 4,
 "nbformat_minor": 5
}
